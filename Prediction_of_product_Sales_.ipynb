{
  "nbformat": 4,
  "nbformat_minor": 0,
  "metadata": {
    "colab": {
      "provenance": [],
      "authorship_tag": "ABX9TyOiaJmubOiqQoDmhrNAKMJz",
      "include_colab_link": true
    },
    "kernelspec": {
      "name": "python3",
      "display_name": "Python 3"
    },
    "language_info": {
      "name": "python"
    }
  },
  "cells": [
    {
      "cell_type": "markdown",
      "metadata": {
        "id": "view-in-github",
        "colab_type": "text"
      },
      "source": [
        "<a href=\"https://colab.research.google.com/github/Areej73/Prediction-of-Product-Sales/blob/main/Prediction_of_product_Sales_.ipynb\" target=\"_parent\"><img src=\"https://colab.research.google.com/assets/colab-badge.svg\" alt=\"Open In Colab\"/></a>"
      ]
    },
    {
      "cell_type": "markdown",
      "source": [
        "# Prediction of product sales"
      ],
      "metadata": {
        "id": "3zi7E8Thpw06"
      }
    },
    {
      "cell_type": "markdown",
      "source": [
        "- author: Areej Taha"
      ],
      "metadata": {
        "id": "hfXfR9XUuyNX"
      }
    },
    {
      "cell_type": "markdown",
      "source": [
        "## \"project overview\""
      ],
      "metadata": {
        "id": "Wqqb63Fju6co"
      }
    },
    {
      "cell_type": "markdown",
      "source": [],
      "metadata": {
        "id": "Ep1s5Czwu6xJ"
      }
    },
    {
      "cell_type": "markdown",
      "source": [
        "## \"Load and Inspect Data \""
      ],
      "metadata": {
        "id": "dEgPFo2xu7Jz"
      }
    },
    {
      "cell_type": "markdown",
      "source": [
        "## \"Clean Data\""
      ],
      "metadata": {
        "id": "3foLNLmFvWUa"
      }
    },
    {
      "cell_type": "markdown",
      "source": [],
      "metadata": {
        "id": "J58nUZqyvg7K"
      }
    },
    {
      "cell_type": "markdown",
      "source": [
        "## \"Exploratory Data Analysis\""
      ],
      "metadata": {
        "id": "mwS_lntnvjy-"
      }
    },
    {
      "cell_type": "markdown",
      "source": [
        "## \"Feature Inspection\"\n"
      ],
      "metadata": {
        "id": "W7W5tKpcvunA"
      }
    },
    {
      "cell_type": "markdown",
      "source": [],
      "metadata": {
        "id": "RnbUQc0pvytk"
      }
    }
  ]
}