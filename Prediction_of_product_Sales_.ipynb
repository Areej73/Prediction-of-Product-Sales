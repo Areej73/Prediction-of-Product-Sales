{
  "nbformat": 4,
  "nbformat_minor": 0,
  "metadata": {
    "colab": {
      "provenance": [],
      "authorship_tag": "ABX9TyOvUn+HC8yKA5r5DhSPKvkf",
      "include_colab_link": true
    },
    "kernelspec": {
      "name": "python3",
      "display_name": "Python 3"
    },
    "language_info": {
      "name": "python"
    }
  },
  "cells": [
    {
      "cell_type": "markdown",
      "metadata": {
        "id": "view-in-github",
        "colab_type": "text"
      },
      "source": [
        "<a href=\"https://colab.research.google.com/github/Areej73/Prediction-of-Product-Sales/blob/main/Prediction_of_product_Sales_.ipynb\" target=\"_parent\"><img src=\"https://colab.research.google.com/assets/colab-badge.svg\" alt=\"Open In Colab\"/></a>"
      ]
    },
    {
      "cell_type": "markdown",
      "source": [
        "# Prediction of product sales"
      ],
      "metadata": {
        "id": "3zi7E8Thpw06"
      }
    },
    {
      "cell_type": "markdown",
      "source": [
        "- author: Areej Taha"
      ],
      "metadata": {
        "id": "hfXfR9XUuyNX"
      }
    },
    {
      "cell_type": "markdown",
      "source": [
        "## project overview"
      ],
      "metadata": {
        "id": "Wqqb63Fju6co"
      }
    },
    {
      "cell_type": "markdown",
      "source": [
        "## Load and Inspect Data"
      ],
      "metadata": {
        "id": "dEgPFo2xu7Jz"
      }
    },
    {
      "cell_type": "code",
      "source": [],
      "metadata": {
        "id": "8JyYSVDWAhSl"
      },
      "execution_count": null,
      "outputs": []
    },
    {
      "cell_type": "markdown",
      "source": [
        "## Clean Data"
      ],
      "metadata": {
        "id": "3foLNLmFvWUa"
      }
    },
    {
      "cell_type": "code",
      "source": [],
      "metadata": {
        "id": "w_MZWmQ6AibH"
      },
      "execution_count": null,
      "outputs": []
    },
    {
      "cell_type": "markdown",
      "source": [
        "## Exploratory Data Analysis"
      ],
      "metadata": {
        "id": "mwS_lntnvjy-"
      }
    },
    {
      "cell_type": "code",
      "source": [],
      "metadata": {
        "id": "bHeDvUU0Ajo9"
      },
      "execution_count": null,
      "outputs": []
    },
    {
      "cell_type": "markdown",
      "source": [
        "## Feature Inspection\n"
      ],
      "metadata": {
        "id": "W7W5tKpcvunA"
      }
    },
    {
      "cell_type": "code",
      "source": [],
      "metadata": {
        "id": "0bAQfZWpAnBx"
      },
      "execution_count": null,
      "outputs": []
    }
  ]
}